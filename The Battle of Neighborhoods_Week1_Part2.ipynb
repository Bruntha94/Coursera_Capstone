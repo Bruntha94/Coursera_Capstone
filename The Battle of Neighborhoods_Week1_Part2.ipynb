{
 "cells": [
  {
   "cell_type": "markdown",
   "metadata": {
    "collapsed": true
   },
   "source": [
    "<h1>\n",
    "<b>The Battle of Neighborhoods<b>\n",
    "</h1>"
   ]
  },
  {
   "cell_type": "markdown",
   "metadata": {},
   "source": [
    "<b>Week 4:Part b</b>"
   ]
  },
  {
   "cell_type": "markdown",
   "metadata": {},
   "source": [
    "<b>Data Requirements</b>"
   ]
  },
  {
   "cell_type": "markdown",
   "metadata": {},
   "source": [
    "To find a solution to the questions and build a recommender model, we need lots of data. Data can answer question which are unimaginable and non answerable by humans because humans do not have the tendency to analyse such large dataset and produce analtics to find a solutions."
   ]
  },
  {
   "cell_type": "markdown",
   "metadata": {},
   "source": [
    "<b>Data Collection</b>"
   ]
  },
  {
   "cell_type": "markdown",
   "metadata": {},
   "source": [
    "Data collection is important for the project as we need more data. Below is the full dataset used for this project. I collected these datas from Google "
   ]
  },
  {
   "cell_type": "code",
   "execution_count": 6,
   "metadata": {},
   "outputs": [
    {
     "data": {
      "text/html": [
       "<div>\n",
       "<style scoped>\n",
       "    .dataframe tbody tr th:only-of-type {\n",
       "        vertical-align: middle;\n",
       "    }\n",
       "\n",
       "    .dataframe tbody tr th {\n",
       "        vertical-align: top;\n",
       "    }\n",
       "\n",
       "    .dataframe thead th {\n",
       "        text-align: right;\n",
       "    }\n",
       "</style>\n",
       "<table border=\"1\" class=\"dataframe\">\n",
       "  <thead>\n",
       "    <tr style=\"text-align: right;\">\n",
       "      <th></th>\n",
       "      <th>Unnamed: 0</th>\n",
       "      <th>Borough</th>\n",
       "      <th>Neighborhoods</th>\n",
       "      <th>Latitude</th>\n",
       "      <th>Longitude</th>\n",
       "      <th>Population</th>\n",
       "      <th>Average Income</th>\n",
       "      <th>Unnamed: 7</th>\n",
       "    </tr>\n",
       "  </thead>\n",
       "  <tbody>\n",
       "    <tr>\n",
       "      <th>0</th>\n",
       "      <td>0</td>\n",
       "      <td>North Chennai</td>\n",
       "      <td>Red Hills</td>\n",
       "      <td>13.1865</td>\n",
       "      <td>80.1999</td>\n",
       "      <td>743186</td>\n",
       "      <td>56837.022200</td>\n",
       "      <td>NaN</td>\n",
       "    </tr>\n",
       "    <tr>\n",
       "      <th>1</th>\n",
       "      <td>1</td>\n",
       "      <td>North Chennai</td>\n",
       "      <td>Ayanavaram</td>\n",
       "      <td>13.0979</td>\n",
       "      <td>80.2306</td>\n",
       "      <td>474289</td>\n",
       "      <td>41991.817440</td>\n",
       "      <td>NaN</td>\n",
       "    </tr>\n",
       "    <tr>\n",
       "      <th>2</th>\n",
       "      <td>2</td>\n",
       "      <td>North Chennai</td>\n",
       "      <td>Royapuram</td>\n",
       "      <td>13.1137</td>\n",
       "      <td>80.2954</td>\n",
       "      <td>527874</td>\n",
       "      <td>6667.447632</td>\n",
       "      <td>NaN</td>\n",
       "    </tr>\n",
       "    <tr>\n",
       "      <th>3</th>\n",
       "      <td>3</td>\n",
       "      <td>North Chennai</td>\n",
       "      <td>Korukkupet</td>\n",
       "      <td>13.1186</td>\n",
       "      <td>80.2780</td>\n",
       "      <td>893629</td>\n",
       "      <td>53270.063890</td>\n",
       "      <td>NaN</td>\n",
       "    </tr>\n",
       "    <tr>\n",
       "      <th>4</th>\n",
       "      <td>4</td>\n",
       "      <td>North Chennai</td>\n",
       "      <td>Vyasarpadi</td>\n",
       "      <td>13.1184</td>\n",
       "      <td>80.2594</td>\n",
       "      <td>730999</td>\n",
       "      <td>50712.430220</td>\n",
       "      <td>NaN</td>\n",
       "    </tr>\n",
       "  </tbody>\n",
       "</table>\n",
       "</div>"
      ],
      "text/plain": [
       "   Unnamed: 0        Borough Neighborhoods  Latitude  Longitude  Population  \\\n",
       "0           0  North Chennai     Red Hills   13.1865    80.1999      743186   \n",
       "1           1  North Chennai    Ayanavaram   13.0979    80.2306      474289   \n",
       "2           2  North Chennai     Royapuram   13.1137    80.2954      527874   \n",
       "3           3  North Chennai    Korukkupet   13.1186    80.2780      893629   \n",
       "4           4  North Chennai    Vyasarpadi   13.1184    80.2594      730999   \n",
       "\n",
       "   Average Income  Unnamed: 7  \n",
       "0    56837.022200         NaN  \n",
       "1    41991.817440         NaN  \n",
       "2     6667.447632         NaN  \n",
       "3    53270.063890         NaN  \n",
       "4    50712.430220         NaN  "
      ]
     },
     "execution_count": 6,
     "metadata": {},
     "output_type": "execute_result"
    }
   ],
   "source": [
    "Full Dataset\n",
    "\n"
   ]
  },
  {
   "cell_type": "code",
   "execution_count": 4,
   "metadata": {},
   "outputs": [
    {
     "data": {
      "text/html": [
       "<div>\n",
       "<style scoped>\n",
       "    .dataframe tbody tr th:only-of-type {\n",
       "        vertical-align: middle;\n",
       "    }\n",
       "\n",
       "    .dataframe tbody tr th {\n",
       "        vertical-align: top;\n",
       "    }\n",
       "\n",
       "    .dataframe thead th {\n",
       "        text-align: right;\n",
       "    }\n",
       "</style>\n",
       "<table border=\"1\" class=\"dataframe\">\n",
       "  <thead>\n",
       "    <tr style=\"text-align: right;\">\n",
       "      <th></th>\n",
       "      <th>Unnamed: 0</th>\n",
       "      <th>Borough</th>\n",
       "      <th>Neighborhoods</th>\n",
       "      <th>Average Income</th>\n",
       "    </tr>\n",
       "  </thead>\n",
       "  <tbody>\n",
       "    <tr>\n",
       "      <th>0</th>\n",
       "      <td>0</td>\n",
       "      <td>North Chennai</td>\n",
       "      <td>Red Hills</td>\n",
       "      <td>56837.022200</td>\n",
       "    </tr>\n",
       "    <tr>\n",
       "      <th>1</th>\n",
       "      <td>1</td>\n",
       "      <td>North Chennai</td>\n",
       "      <td>Ayanavaram</td>\n",
       "      <td>41991.817440</td>\n",
       "    </tr>\n",
       "    <tr>\n",
       "      <th>2</th>\n",
       "      <td>2</td>\n",
       "      <td>North Chennai</td>\n",
       "      <td>Royapuram</td>\n",
       "      <td>6667.447632</td>\n",
       "    </tr>\n",
       "    <tr>\n",
       "      <th>3</th>\n",
       "      <td>3</td>\n",
       "      <td>North Chennai</td>\n",
       "      <td>Korukkupet</td>\n",
       "      <td>53270.063890</td>\n",
       "    </tr>\n",
       "    <tr>\n",
       "      <th>4</th>\n",
       "      <td>4</td>\n",
       "      <td>North Chennai</td>\n",
       "      <td>Vyasarpadi</td>\n",
       "      <td>50712.430220</td>\n",
       "    </tr>\n",
       "  </tbody>\n",
       "</table>\n",
       "</div>"
      ],
      "text/plain": [
       "   Unnamed: 0        Borough Neighborhoods  Average Income\n",
       "0           0  North Chennai     Red Hills    56837.022200\n",
       "1           1  North Chennai    Ayanavaram    41991.817440\n",
       "2           2  North Chennai     Royapuram     6667.447632\n",
       "3           3  North Chennai    Korukkupet    53270.063890\n",
       "4           4  North Chennai    Vyasarpadi    50712.430220"
      ]
     },
     "execution_count": 4,
     "metadata": {},
     "output_type": "execute_result"
    }
   ],
   "source": [
    "Income Dataset\n"
   ]
  },
  {
   "cell_type": "code",
   "execution_count": 5,
   "metadata": {},
   "outputs": [
    {
     "data": {
      "text/html": [
       "<div>\n",
       "<style scoped>\n",
       "    .dataframe tbody tr th:only-of-type {\n",
       "        vertical-align: middle;\n",
       "    }\n",
       "\n",
       "    .dataframe tbody tr th {\n",
       "        vertical-align: top;\n",
       "    }\n",
       "\n",
       "    .dataframe thead th {\n",
       "        text-align: right;\n",
       "    }\n",
       "</style>\n",
       "<table border=\"1\" class=\"dataframe\">\n",
       "  <thead>\n",
       "    <tr style=\"text-align: right;\">\n",
       "      <th></th>\n",
       "      <th>Unnamed: 0</th>\n",
       "      <th>Borough</th>\n",
       "      <th>Neighborhoods</th>\n",
       "      <th>Population</th>\n",
       "    </tr>\n",
       "  </thead>\n",
       "  <tbody>\n",
       "    <tr>\n",
       "      <th>0</th>\n",
       "      <td>0</td>\n",
       "      <td>North Chennai</td>\n",
       "      <td>Red Hills</td>\n",
       "      <td>743186</td>\n",
       "    </tr>\n",
       "    <tr>\n",
       "      <th>1</th>\n",
       "      <td>1</td>\n",
       "      <td>North Chennai</td>\n",
       "      <td>Ayanavaram</td>\n",
       "      <td>474289</td>\n",
       "    </tr>\n",
       "    <tr>\n",
       "      <th>2</th>\n",
       "      <td>2</td>\n",
       "      <td>North Chennai</td>\n",
       "      <td>Royapuram</td>\n",
       "      <td>527874</td>\n",
       "    </tr>\n",
       "    <tr>\n",
       "      <th>3</th>\n",
       "      <td>3</td>\n",
       "      <td>North Chennai</td>\n",
       "      <td>Korukkupet</td>\n",
       "      <td>893629</td>\n",
       "    </tr>\n",
       "    <tr>\n",
       "      <th>4</th>\n",
       "      <td>4</td>\n",
       "      <td>North Chennai</td>\n",
       "      <td>Vyasarpadi</td>\n",
       "      <td>730999</td>\n",
       "    </tr>\n",
       "  </tbody>\n",
       "</table>\n",
       "</div>"
      ],
      "text/plain": [
       "   Unnamed: 0        Borough Neighborhoods  Population\n",
       "0           0  North Chennai     Red Hills      743186\n",
       "1           1  North Chennai    Ayanavaram      474289\n",
       "2           2  North Chennai     Royapuram      527874\n",
       "3           3  North Chennai    Korukkupet      893629\n",
       "4           4  North Chennai    Vyasarpadi      730999"
      ]
     },
     "execution_count": 5,
     "metadata": {},
     "output_type": "execute_result"
    }
   ],
   "source": [
    "\n",
    "Population Dataset"
   ]
  },
  {
   "cell_type": "code",
   "execution_count": null,
   "metadata": {},
   "outputs": [],
   "source": []
  }
 ],
 "metadata": {
  "kernelspec": {
   "display_name": "Python 3.6",
   "language": "python",
   "name": "python3"
  },
  "language_info": {
   "codemirror_mode": {
    "name": "ipython",
    "version": 3
   },
   "file_extension": ".py",
   "mimetype": "text/x-python",
   "name": "python",
   "nbconvert_exporter": "python",
   "pygments_lexer": "ipython3",
   "version": "3.6.8"
  }
 },
 "nbformat": 4,
 "nbformat_minor": 1
}
